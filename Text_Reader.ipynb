{
 "cells": [
  {
   "cell_type": "code",
   "execution_count": 1,
   "id": "7322280b",
   "metadata": {},
   "outputs": [
    {
     "name": "stdout",
     "output_type": "stream",
     "text": [
      "Collecting autopy\n",
      "  Using cached autopy-4.0.0-cp38-cp38-win_amd64.whl (3.7 MB)\n",
      "Installing collected packages: autopy\n",
      "Successfully installed autopy-4.0.0\n"
     ]
    }
   ],
   "source": [
    "! pip install autopy"
   ]
  },
  {
   "cell_type": "code",
   "execution_count": 2,
   "id": "f31c1a19",
   "metadata": {},
   "outputs": [],
   "source": [
    "import cv2\n",
    "import pytesseract"
   ]
  },
  {
   "cell_type": "code",
   "execution_count": 3,
   "id": "2c84cb25",
   "metadata": {},
   "outputs": [],
   "source": [
    "pytesseract.pytesseract.tesseract_cmd = r'C:\\\\Program Files\\\\Tesseract-OCR\\\\tesseract.exe'"
   ]
  },
  {
   "cell_type": "code",
   "execution_count": 4,
   "id": "4048bf5d",
   "metadata": {},
   "outputs": [
    {
     "data": {
      "text/plain": [
       "-1"
      ]
     },
     "execution_count": 4,
     "metadata": {},
     "output_type": "execute_result"
    }
   ],
   "source": [
    "img = cv2.imread('twinkle.jpg')\n",
    "img = cv2.cvtColor(img,cv2.COLOR_BGR2RGB)\n",
    "cv2.imshow('result',img)\n",
    "cv2.waitKey(0)"
   ]
  },
  {
   "cell_type": "code",
   "execution_count": 5,
   "id": "cc8da82c",
   "metadata": {},
   "outputs": [],
   "source": [
    "# STEP NO.2"
   ]
  },
  {
   "cell_type": "code",
   "execution_count": 6,
   "id": "7f768238",
   "metadata": {},
   "outputs": [
    {
     "name": "stdout",
     "output_type": "stream",
     "text": [
      " \n",
      "\n",
      "Twinkle, twinkle, little star\n",
      "\n",
      "How | wonder what you are\n",
      "\n",
      "Up above the world so high\n",
      "Like a diamond in the sky\n",
      "Twinkle, twinkle little star\n",
      "\n",
      "How | wonder what you are.\n",
      "\n",
      " \n",
      "\f",
      "\n"
     ]
    }
   ],
   "source": [
    "print(pytesseract.image_to_string(img))"
   ]
  },
  {
   "cell_type": "code",
   "execution_count": null,
   "id": "5037a339",
   "metadata": {},
   "outputs": [],
   "source": []
  },
  {
   "cell_type": "code",
   "execution_count": 7,
   "id": "0f3160ce",
   "metadata": {},
   "outputs": [
    {
     "name": "stdout",
     "output_type": "stream",
     "text": [
      "~ 0 1374 1180 1768 0\n",
      "T 224 1307 258 1352 0\n",
      "w 231 1298 297 1356 0\n",
      "i 258 1307 308 1341 0\n",
      "n 313 1307 323 1354 0\n",
      "k 331 1307 360 1341 0\n",
      "l 369 1307 397 1356 0\n",
      "e 403 1307 411 1356 0\n",
      ", 418 1298 466 1341 0\n",
      "t 487 1307 509 1349 0\n",
      "w 512 1307 563 1341 0\n",
      "i 568 1307 578 1354 0\n",
      "n 566 1298 611 1356 0\n",
      "k 586 1307 615 1341 0\n",
      "l 624 1307 652 1356 0\n",
      "e 658 1307 666 1356 0\n",
      ", 673 1298 721 1341 0\n",
      "l 745 1307 759 1356 0\n",
      "i 745 1307 771 1356 0\n",
      "t 775 1307 797 1349 0\n",
      "t 799 1307 821 1349 0\n",
      "l 828 1307 836 1356 0\n",
      "e 843 1307 873 1341 0\n",
      "s 895 1307 918 1341 0\n",
      "t 920 1307 942 1349 0\n",
      "a 946 1307 974 1341 0\n",
      "r 983 1307 1002 1341 0\n",
      "H 210 1180 245 1225 0\n",
      "o 217 1180 287 1225 0\n",
      "w 253 1180 339 1214 0\n",
      "| 361 1180 370 1225 0\n",
      "w 393 1180 443 1214 0\n",
      "o 446 1180 479 1214 0\n",
      "n 453 1180 511 1229 0\n",
      "d 486 1180 515 1214 0\n",
      "e 522 1180 553 1229 0\n",
      "r 560 1180 617 1214 0\n",
      "w 636 1180 672 1229 0\n",
      "h 636 1180 686 1214 0\n",
      "a 692 1180 721 1229 0\n",
      "t 728 1180 782 1222 0\n",
      "y 801 1168 833 1214 0\n",
      "o 804 1168 862 1214 0\n",
      "u 836 1180 905 1214 0\n",
      "a 928 1180 954 1215 0\n",
      "r 928 1180 956 1214 0\n",
      "e 965 1180 1017 1215 0\n",
      "U 215 1052 252 1097 0\n",
      "p 260 1040 292 1086 0\n",
      "a 313 1052 341 1086 0\n",
      "b 320 1052 378 1101 0\n",
      "o 350 1052 380 1101 0\n",
      "v 386 1052 419 1086 0\n",
      "e 422 1052 487 1086 0\n",
      "t 506 1052 528 1094 0\n",
      "h 506 1052 562 1101 0\n",
      "e 535 1052 601 1101 0\n",
      "w 622 1052 654 1101 0\n",
      "o 622 1052 672 1086 0\n",
      "r 675 1052 708 1086 0\n",
      "l 715 1052 734 1086 0\n",
      "d 740 1052 786 1101 0\n",
      "s 809 1052 832 1087 0\n",
      "o 809 1052 870 1087 0\n",
      "h 894 1052 923 1101 0\n",
      "i 931 1052 941 1099 0\n",
      "g 945 1040 976 1086 0\n",
      "h 983 1052 1012 1101 0\n",
      "L 247 926 272 970 0\n",
      "i 276 925 286 973 0\n",
      "k 293 925 322 974 0\n",
      "e 324 925 354 959 0\n",
      "a 376 925 404 959 0\n",
      "d 427 925 458 974 0\n",
      "i 466 925 476 972 0\n",
      "a 482 925 510 959 0\n",
      "m 519 925 567 959 0\n",
      "o 536 925 594 974 0\n",
      "n 575 925 608 959 0\n",
      "d 615 925 682 974 0\n",
      "i 706 925 721 972 0\n",
      "n 706 925 753 972 0\n",
      "t 774 925 796 967 0\n",
      "h 803 925 832 974 0\n",
      "e 839 925 869 959 0\n",
      "s 890 925 913 959 0\n",
      "k 920 925 948 974 0\n",
      "y 950 913 982 959 0\n",
      "T 232 797 267 843 0\n",
      "w 266 797 317 831 0\n",
      "i 278 787 335 846 0\n",
      "n 322 797 332 845 0\n",
      "k 340 797 369 832 0\n",
      "l 377 797 406 846 0\n",
      "e 411 797 420 846 0\n",
      ", 427 787 475 832 0\n",
      "t 496 797 518 839 0\n",
      "w 512 797 558 846 0\n",
      "i 522 797 572 831 0\n",
      "n 577 797 587 844 0\n",
      "k 595 797 624 831 0\n",
      "l 633 797 661 846 0\n",
      "e 667 797 712 846 0\n",
      "l 736 797 748 846 0\n",
      "i 736 797 762 846 0\n",
      "t 766 797 788 839 0\n",
      "t 790 797 812 839 0\n",
      "l 819 797 827 846 0\n",
      "e 834 797 864 831 0\n",
      "s 886 797 909 831 0\n",
      "t 911 797 933 839 0\n",
      "a 937 797 965 831 0\n",
      "r 974 797 993 831 0\n",
      "H 201 670 236 716 0\n",
      "o 208 670 278 716 0\n",
      "w 244 670 331 705 0\n",
      "| 352 670 361 715 0\n",
      "w 383 670 434 704 0\n",
      "o 437 670 470 704 0\n",
      "n 444 670 502 719 0\n",
      "d 476 670 506 704 0\n",
      "e 513 670 544 719 0\n",
      "r 551 670 608 704 0\n",
      "w 627 670 663 719 0\n",
      "h 627 670 677 704 0\n",
      "a 683 670 712 719 0\n",
      "t 719 670 773 712 0\n",
      "y 792 658 818 704 0\n",
      "o 792 658 824 704 0\n",
      "u 827 670 896 704 0\n",
      "a 919 670 939 704 0\n",
      "r 919 670 947 704 0\n",
      "e 956 670 975 704 0\n",
      ". 978 670 1026 704 0\n",
      "~ 0 0 1180 632 0\n",
      "\n"
     ]
    }
   ],
   "source": [
    "# image to boxes cov=nversion\n",
    "print(pytesseract.image_to_boxes(img))"
   ]
  },
  {
   "cell_type": "code",
   "execution_count": 8,
   "id": "a4ae429d",
   "metadata": {
    "scrolled": true
   },
   "outputs": [],
   "source": [
    "# # Detecting Characters\n",
    "# hImg,wImg,_ = img.shape\n",
    "# Bounding_Boxes = pytesseract.image_to_boxes(img) \n",
    "# for b in Bounding_Boxes.splitlines():\n",
    "# #     print(b)\n",
    "#     b = b.split(' ')\n",
    "#     print(b)\n",
    "#     x,y,w,h = int(b[1]),int(b[2]),int(b[3]),int(b[4])\n",
    "#     cv2.rectangle(img,(x,hImg-y),(w,hImg-h),(0,0,255),1)\n",
    "\n",
    "# cv2.imshow('result',img)\n",
    "# cv2.waitKey(0)\n"
   ]
  },
  {
   "cell_type": "markdown",
   "id": "69c4434a",
   "metadata": {},
   "source": [
    "#### For Checking  b"
   ]
  },
  {
   "cell_type": "code",
   "execution_count": 9,
   "id": "b3d99c13",
   "metadata": {},
   "outputs": [],
   "source": [
    "# a,x,y,w,h,l = str(b[0]), int(b[1]),int(b[2]),int(b[3]),int(b[4]),int(b[5])\n",
    "# a,x,y,w,h,l"
   ]
  },
  {
   "cell_type": "code",
   "execution_count": 10,
   "id": "f38cd7b0",
   "metadata": {},
   "outputs": [],
   "source": [
    "# x,y,w,h = int(b[1]),int(b[2]),int(b[3]),int(b[4])\n",
    "# x,y,w,h"
   ]
  },
  {
   "cell_type": "code",
   "execution_count": 11,
   "id": "9b33ce56",
   "metadata": {},
   "outputs": [],
   "source": [
    "# x,y,w,h"
   ]
  },
  {
   "cell_type": "markdown",
   "id": "1dbf321e",
   "metadata": {},
   "source": [
    "### Detecting Characters\n"
   ]
  },
  {
   "cell_type": "code",
   "execution_count": 12,
   "id": "70e4cfd5",
   "metadata": {},
   "outputs": [],
   "source": [
    "# hImg,wImg,_ = img.shape\n",
    "# Bounding_Boxes = pytesseract.image_to_boxes(img) \n",
    "# for b in Bounding_Boxes.splitlines():\n",
    "# #     print(b)\n",
    "#     b = b.split(' ')\n",
    "#     print(b)\n",
    "#     x,y,w,h = int(b[1]),int(b[2]),int(b[3]),int(b[4])\n",
    "#     cv2.rectangle(img,(x,hImg-y),(w,hImg-h),(0,0,255),1)\n",
    "#     cv2.putText(img,b[0],(x,hImg-y+25),cv2.FONT_HERSHEY_COMPLEX,1,(60,60,180),2)\n",
    "\n",
    "# cv2.imshow('result',img)\n",
    "# cv2.waitKey(0)\n"
   ]
  },
  {
   "cell_type": "code",
   "execution_count": 13,
   "id": "2f0a534f",
   "metadata": {},
   "outputs": [],
   "source": [
    "# x,y,w,h = int(b[1]),int(b[2]),int(b[3]),int(b[4])\n",
    "# x,y,w,h"
   ]
  },
  {
   "cell_type": "markdown",
   "id": "2b906585",
   "metadata": {},
   "source": [
    "### Detecting Words\n"
   ]
  },
  {
   "cell_type": "code",
   "execution_count": 14,
   "id": "6be02d2f",
   "metadata": {},
   "outputs": [
    {
     "name": "stdout",
     "output_type": "stream",
     "text": [
      "['1', '1', '0', '0', '0', '0', '0', '0', '1180', '1768', '-1']\n",
      "['2', '1', '1', '0', '0', '0', '0', '0', '1180', '394', '-1']\n",
      "['3', '1', '1', '1', '0', '0', '0', '0', '1180', '394', '-1']\n",
      "['4', '1', '1', '1', '1', '0', '0', '0', '1180', '394', '-1']\n",
      "['5', '1', '1', '1', '1', '1', '0', '0', '1180', '394', '95']\n",
      "['2', '1', '2', '0', '0', '0', '210', '412', '807', '569', '-1']\n",
      "['3', '1', '2', '1', '0', '0', '224', '412', '778', '58', '-1']\n",
      "['4', '1', '2', '1', '1', '0', '224', '412', '778', '58', '-1']\n",
      "['5', '1', '2', '1', '1', '1', '224', '412', '242', '58', '96', 'Twinkle,']\n",
      "['5', '1', '2', '1', '1', '2', '487', '412', '234', '58', '95', 'twinkle,']\n",
      "['5', '1', '2', '1', '1', '3', '745', '412', '128', '49', '96', 'little']\n",
      "['5', '1', '2', '1', '1', '4', '895', '419', '107', '42', '96', 'star']\n",
      "['3', '1', '2', '2', '0', '0', '210', '539', '807', '61', '-1']\n",
      "['4', '1', '2', '2', '1', '0', '210', '539', '807', '61', '-1']\n",
      "['5', '1', '2', '2', '1', '1', '210', '543', '129', '45', '96', 'How']\n",
      "['5', '1', '2', '2', '1', '2', '361', '543', '9', '45', '78', '|']\n",
      "['5', '1', '2', '2', '1', '3', '393', '539', '224', '49', '96', 'wonder']\n",
      "['5', '1', '2', '2', '1', '4', '636', '539', '146', '49', '96', 'what']\n",
      "['5', '1', '2', '2', '1', '5', '801', '554', '104', '46', '96', 'you']\n",
      "['5', '1', '2', '2', '1', '6', '928', '553', '89', '35', '96', 'are']\n",
      "['3', '1', '2', '3', '0', '0', '215', '667', '797', '314', '-1']\n",
      "['4', '1', '2', '3', '1', '0', '215', '667', '797', '61', '-1']\n",
      "['5', '1', '2', '3', '1', '1', '215', '671', '77', '57', '96', 'Up']\n",
      "['5', '1', '2', '3', '1', '2', '313', '667', '174', '49', '95', 'above']\n",
      "['5', '1', '2', '3', '1', '3', '506', '667', '95', '49', '96', 'the']\n",
      "['5', '1', '2', '3', '1', '4', '622', '667', '164', '49', '96', 'world']\n",
      "['5', '1', '2', '3', '1', '5', '809', '681', '61', '35', '95', 'so']\n",
      "['5', '1', '2', '3', '1', '6', '894', '667', '118', '61', '96', 'high']\n",
      "['4', '1', '2', '3', '2', '0', '247', '794', '735', '61', '-1']\n",
      "['5', '1', '2', '3', '2', '1', '247', '794', '107', '49', '96', 'Like']\n",
      "['5', '1', '2', '3', '2', '2', '376', '809', '28', '34', '96', 'a']\n",
      "['5', '1', '2', '3', '2', '3', '427', '794', '255', '49', '96', 'diamond']\n",
      "['5', '1', '2', '3', '2', '4', '706', '796', '47', '47', '95', 'in']\n",
      "['5', '1', '2', '3', '2', '5', '774', '794', '95', '49', '96', 'the']\n",
      "['5', '1', '2', '3', '2', '6', '890', '794', '92', '61', '96', 'sky']\n",
      "['4', '1', '2', '3', '3', '0', '232', '922', '761', '59', '-1']\n",
      "['5', '1', '2', '3', '3', '1', '232', '922', '243', '59', '96', 'Twinkle,']\n",
      "['5', '1', '2', '3', '3', '2', '496', '922', '216', '49', '95', 'twinkle']\n",
      "['5', '1', '2', '3', '3', '3', '736', '922', '128', '49', '95', 'little']\n",
      "['5', '1', '2', '3', '3', '4', '886', '929', '107', '42', '96', 'star']\n",
      "['2', '1', '3', '0', '0', '0', '201', '1049', '825', '61', '-1']\n",
      "['3', '1', '3', '1', '0', '0', '201', '1049', '825', '61', '-1']\n",
      "['4', '1', '3', '1', '1', '0', '201', '1049', '825', '61', '-1']\n",
      "['5', '1', '3', '1', '1', '1', '201', '1052', '130', '46', '96', 'How']\n",
      "['5', '1', '3', '1', '1', '2', '352', '1053', '9', '45', '73', '|']\n",
      "['5', '1', '3', '1', '1', '3', '383', '1049', '225', '49', '96', 'wonder']\n",
      "['5', '1', '3', '1', '1', '4', '627', '1049', '146', '49', '96', 'what']\n",
      "['5', '1', '3', '1', '1', '5', '792', '1064', '104', '46', '96', 'you']\n",
      "['5', '1', '3', '1', '1', '6', '919', '1064', '107', '34', '96', 'are.']\n",
      "['2', '1', '4', '0', '0', '0', '0', '1136', '1180', '632', '-1']\n",
      "['3', '1', '4', '1', '0', '0', '0', '1136', '1180', '632', '-1']\n",
      "['4', '1', '4', '1', '1', '0', '0', '1136', '1180', '632', '-1']\n",
      "['5', '1', '4', '1', '1', '1', '0', '1136', '1180', '632', '95']\n"
     ]
    },
    {
     "data": {
      "text/plain": [
       "-1"
      ]
     },
     "execution_count": 14,
     "metadata": {},
     "output_type": "execute_result"
    }
   ],
   "source": [
    "hImg,wImg,_ = img.shape\n",
    "Bounding_Boxes = pytesseract.image_to_data(img) \n",
    "for x,b in enumerate(Bounding_Boxes.splitlines()):\n",
    "    if x!=0:\n",
    "        b = b.split()\n",
    "        print(b)\n",
    "        if len(b)==12:\n",
    "            x,y,w,h = int(b[6]),int(b[7]),int(b[8]),int(b[9])\n",
    "            cv2.rectangle(img,(x,y),(w+x,h+y),(0,0,255),2)\n",
    "            cv2.putText(img,b[11],(x,y),cv2.FONT_HERSHEY_COMPLEX,1,(60,60,180),2)\n",
    "    \n",
    "cv2.imshow('result',img)\n",
    "cv2.waitKey(0)\n"
   ]
  },
  {
   "cell_type": "markdown",
   "id": "72701266",
   "metadata": {},
   "source": [
    "### Tell me , About Detecting Word"
   ]
  },
  {
   "cell_type": "code",
   "execution_count": 15,
   "id": "6b034ba3",
   "metadata": {},
   "outputs": [
    {
     "name": "stderr",
     "output_type": "stream",
     "text": [
      "Exception ignored in: <function BSTR.__del__ at 0x00000286C317E430>\n",
      "Traceback (most recent call last):\n",
      "  File \"C:\\Anaconda\\envs\\tensorflow\\lib\\site-packages\\comtypes\\__init__.py\", line 999, in __del__\n",
      "    def __del__(self, _free=windll.oleaut32.SysFreeString):\n",
      "KeyboardInterrupt: \n"
     ]
    }
   ],
   "source": [
    "import pyttsx3\n",
    "  \n",
    "# initialisation\n",
    "engine = pyttsx3.init()\n",
    "engine. setProperty(\"rate\", 120)\n",
    "\n",
    "  \n",
    "# testing\n",
    "engine.say(\"The word in the image is ....\")\n",
    "engine.say(pytesseract.image_to_string(img))\n",
    "engine.runAndWait()"
   ]
  },
  {
   "cell_type": "code",
   "execution_count": null,
   "id": "fb947427",
   "metadata": {},
   "outputs": [],
   "source": []
  }
 ],
 "metadata": {
  "kernelspec": {
   "display_name": "Python 3",
   "language": "python",
   "name": "python3"
  },
  "language_info": {
   "codemirror_mode": {
    "name": "ipython",
    "version": 3
   },
   "file_extension": ".py",
   "mimetype": "text/x-python",
   "name": "python",
   "nbconvert_exporter": "python",
   "pygments_lexer": "ipython3",
   "version": "3.8.11"
  }
 },
 "nbformat": 4,
 "nbformat_minor": 5
}
